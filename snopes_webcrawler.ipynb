{
 "cells": [
  {
   "cell_type": "code",
   "execution_count": 16,
   "metadata": {
    "ExecuteTime": {
     "end_time": "2023-04-11T20:48:50.058506Z",
     "start_time": "2023-04-11T20:48:49.198602Z"
    },
    "collapsed": true
   },
   "outputs": [],
   "source": [
    "import time\n",
    "\n",
    "# Data wrangling\n",
    "import pandas as pd\n",
    "import numpy as np\n",
    "\n",
    "import requests\n",
    "\n",
    "import sqlite3\n",
    "\n",
    "# Google API requests\n",
    "\n",
    "from pytrends.request import TrendReq\n",
    "pytrend = TrendReq(hl=\"en-US\", tz=360)\n",
    "\n",
    "from bs4 import BeautifulSoup\n",
    "from selenium import webdriver\n",
    "from selenium.webdriver.chrome.service import Service\n",
    "from webdriver_manager.chrome import ChromeDriverManager\n",
    "from webdriver_manager.firefox import GeckoDriverManager\n",
    "from selenium.webdriver.common.by import By\n",
    "from selenium.webdriver.common.keys import Keys\n",
    "from selenium.webdriver.common.action_chains import ActionChains\n",
    "from webdriver_manager.chrome import ChromeDriverManager"
   ]
  },
  {
   "cell_type": "code",
   "execution_count": 17,
   "metadata": {
    "ExecuteTime": {
     "end_time": "2023-04-11T20:48:53.341775Z",
     "start_time": "2023-04-11T20:48:51.105955Z"
    }
   },
   "outputs": [
    {
     "name": "stderr",
     "output_type": "stream",
     "text": [
      "C:\\Users\\lvgui\\AppData\\Local\\Temp\\ipykernel_30896\\910562302.py:1: DeprecationWarning: executable_path has been deprecated, please pass in a Service object\n",
      "  driver = webdriver.Chrome(executable_path=ChromeDriverManager().install())\n"
     ]
    }
   ],
   "source": [
    "driver = webdriver.Chrome(executable_path=ChromeDriverManager().install())"
   ]
  },
  {
   "cell_type": "code",
   "execution_count": 18,
   "metadata": {
    "ExecuteTime": {
     "end_time": "2023-04-11T20:49:05.006672Z",
     "start_time": "2023-04-11T20:49:00.625055Z"
    }
   },
   "outputs": [
    {
     "name": "stdout",
     "output_type": "stream",
     "text": [
      "Article list length: 20\n",
      "Article list length: 20\n",
      "\n",
      "First three URLs:\n",
      "['https://www.snopes.com/fact-check/did-hillary-clinton-endorse-ron-desantis-for-president/', 'https://www.snopes.com/fact-check/whole-foods-close-transgender-customers/', 'https://www.snopes.com/fact-check/tampax-hires-trans-star-dylan-mulvaney/']\n",
      "\n",
      "Last three URLs:\n",
      "['https://www.snopes.com/fact-check/is-this-sour-patch-kids-advertisment-real/', 'https://www.snopes.com/fact-check/gloria-johnson-tennessee-house-white/', 'https://www.snopes.com/fact-check/bud-light-beer-hate-gays-and-trans-people/']\n"
     ]
    }
   ],
   "source": [
    "driver.get(\"https://www.snopes.com/fact-check/?pagenum=1\")\n",
    "\n",
    "# Find all article titles on the page\n",
    "article_list = driver.find_elements(By.CLASS_NAME, \"outer_article_link_wrapper\")\n",
    "url_list = [article.get_attribute(\"href\") for article in article_list]\n",
    "\n",
    "# Print to check if output is as expected\n",
    "print(f\"Article list length: {len(article_list)}\")\n",
    "print(f\"Article list length: {len(url_list)}\")\n",
    "print()\n",
    "print(\"First three URLs:\")\n",
    "print(url_list[0:3])\n",
    "print()\n",
    "print(\"Last three URLs:\")\n",
    "print(url_list[-3:])"
   ]
  },
  {
   "cell_type": "code",
   "execution_count": 19,
   "metadata": {
    "ExecuteTime": {
     "end_time": "2023-04-11T20:52:44.599479Z",
     "start_time": "2023-04-11T20:49:17.578334Z"
    }
   },
   "outputs": [
    {
     "name": "stdout",
     "output_type": "stream",
     "text": [
      "Article list length: 3000\n",
      "Article list length: 3000\n",
      "\n",
      "First three URLs:\n",
      "['https://www.snopes.com/fact-check/did-hillary-clinton-endorse-ron-desantis-for-president/', 'https://www.snopes.com/fact-check/whole-foods-close-transgender-customers/', 'https://www.snopes.com/fact-check/tampax-hires-trans-star-dylan-mulvaney/']\n",
      "\n",
      "Last three titles:\n",
      "['https://www.snopes.com/fact-check/neil-degrasse-tyson-vax-tweet/', 'https://www.snopes.com/fact-check/christine-grady-pfizer-vaccine/', 'https://www.snopes.com/fact-check/lyft-legal-aid-texas-abortion/']\n"
     ]
    }
   ],
   "source": [
    "# Iteration loop\n",
    "article_list = []\n",
    "url_list = []\n",
    "\n",
    "for i in range(150):\n",
    "    # Go to desired page\n",
    "    driver.get(f\"https://www.snopes.com/fact-check/?pagenum={i+1}\")\n",
    "\n",
    "    # Find all articles and their URLs on the page\n",
    "    articles_in_page = driver.find_elements(By.CLASS_NAME, \"outer_article_link_wrapper\")\n",
    "    article_urls_in_page = [article.get_attribute(\"href\") for article in articles_in_page]\n",
    "\n",
    "    # Add found articles to article_list and article_urls\n",
    "    article_list = article_list + articles_in_page\n",
    "    url_list = url_list + article_urls_in_page\n",
    "\n",
    "    time.sleep(0.25)\n",
    "\n",
    "print(f\"Article list length: {len(article_list)}\")\n",
    "print(f\"Article list length: {len(url_list)}\")\n",
    "print()\n",
    "print(\"First three URLs:\")\n",
    "print(url_list[0:3])\n",
    "print()\n",
    "print(\"Last three titles:\")\n",
    "print(url_list[-3:])"
   ]
  },
  {
   "cell_type": "code",
   "execution_count": 20,
   "metadata": {
    "ExecuteTime": {
     "end_time": "2023-04-11T20:53:03.744816Z",
     "start_time": "2023-04-11T20:53:03.729306Z"
    }
   },
   "outputs": [],
   "source": [
    "def get_article_info(url, driver=driver):\n",
    "    driver.get(url)\n",
    "\n",
    "    # Get title\n",
    "    try:\n",
    "        title_tag = driver.find_element(By.XPATH, \"//meta[@property='og:title']\")\n",
    "        title_content = title_tag.get_attribute(\"content\").lower()\n",
    "    except Exception:\n",
    "        title_content = None\n",
    "\n",
    "    # Get locale\n",
    "    try:\n",
    "        locale_tag = driver.find_element(By.XPATH, \"//meta[@property='og:locale']\")\n",
    "        locale_content = locale_tag.get_attribute(\"content\").lower()\n",
    "    except Exception:\n",
    "        locale_content = None\n",
    "\n",
    "    # Get type\n",
    "    try:\n",
    "        type_tag = driver.find_element(By.XPATH, \"//meta[@property='og:type']\")\n",
    "        type_content = type_tag.get_attribute(\"content\").lower()\n",
    "    except Exception:\n",
    "        type_content = None\n",
    "\n",
    "    # Get published_time\n",
    "    try:\n",
    "        pub_time_tag = driver.find_element(By.XPATH, \"//meta[@property='article:published_time']\")\n",
    "        pub_time_content = pub_time_tag.get_attribute(\"content\")\n",
    "    except Exception:\n",
    "        pub_time_content = None\n",
    "\n",
    "    # Get modified_time\n",
    "    try:\n",
    "        mod_time_tag = driver.find_element(By.XPATH, \"//meta[@property='article:modified_time']\")\n",
    "        mod_time_content = mod_time_tag.get_attribute(\"content\")\n",
    "    except Exception:\n",
    "        mod_time_content = None\n",
    "\n",
    "    # Get author\n",
    "    try:\n",
    "        author_tag = driver.find_element(By.XPATH, \"//meta[@property='article:author']\")\n",
    "        author_content = author_tag.get_attribute(\"content\").lower()\n",
    "    except Exception:\n",
    "        author_content = None\n",
    "\n",
    "    # Get tag(s)\n",
    "    try:\n",
    "        tag_tag = driver.find_elements(By.XPATH, \"//meta[@property='article:tag']\")\n",
    "        tag_list = [tag.get_attribute(\"content\").lower() for tag in tag_tag]\n",
    "    except Exception:\n",
    "        tag_list = []\n",
    "\n",
    "    # Get label\n",
    "    try:\n",
    "        label_tag = driver.find_element(By.CLASS_NAME, \"rating_title_wrap\")\n",
    "        label_content = label_tag.text.lower().split(\"\\n\")[0]\n",
    "    except Exception:\n",
    "        label_content = None\n",
    "\n",
    "    # Get article text\n",
    "    try:\n",
    "        body_tag = driver.find_element(By.TAG_NAME, \"body\")\n",
    "        text_tags = body_tag.find_elements(By.TAG_NAME, \"p\")\n",
    "        text_list = [tag.text.strip() for tag in text_tags]\n",
    "        article_text = \" \".join(text_list)\n",
    "    except Exception:\n",
    "        article_text = None\n",
    "\n",
    "    info_dict = {\n",
    "        \"title\": title_content,\n",
    "        \"locale\": locale_content,\n",
    "        \"type\": type_content,\n",
    "        \"published_time\": pub_time_content,\n",
    "        \"modified_time\": mod_time_content,\n",
    "        \"author\": author_content,\n",
    "        \"tag_list\": tag_list,\n",
    "        \"label\": label_content,\n",
    "        \"article_text\": article_text\n",
    "    }\n",
    "\n",
    "    return info_dict"
   ]
  },
  {
   "cell_type": "code",
   "execution_count": 21,
   "metadata": {
    "ExecuteTime": {
     "end_time": "2023-04-11T22:47:31.290520Z",
     "start_time": "2023-04-11T20:53:20.935309Z"
    }
   },
   "outputs": [],
   "source": [
    "article_info = {}\n",
    "\n",
    "for url in url_list:\n",
    "    article_info[url] = get_article_info(url)\n",
    "    time.sleep(0.25)"
   ]
  },
  {
   "cell_type": "code",
   "execution_count": 22,
   "metadata": {
    "ExecuteTime": {
     "end_time": "2023-04-11T23:03:36.814401Z",
     "start_time": "2023-04-11T23:03:36.758103Z"
    }
   },
   "outputs": [],
   "source": [
    "df = (\n",
    "    pd.DataFrame\n",
    "    .from_dict(article_info, orient=\"index\")\n",
    "    .reset_index()\n",
    "    .reset_index()\n",
    "    .rename(columns={\"index\": \"article_url\", \"level_0\": \"article_id\"})\n",
    ")"
   ]
  },
  {
   "cell_type": "code",
   "execution_count": 23,
   "metadata": {
    "ExecuteTime": {
     "end_time": "2023-04-11T23:03:57.118594Z",
     "start_time": "2023-04-11T23:03:57.065337Z"
    }
   },
   "outputs": [
    {
     "name": "stdout",
     "output_type": "stream",
     "text": [
      "<class 'pandas.core.frame.DataFrame'>\n",
      "RangeIndex: 2995 entries, 0 to 2994\n",
      "Data columns (total 11 columns):\n",
      " #   Column          Non-Null Count  Dtype \n",
      "---  ------          --------------  ----- \n",
      " 0   article_id      2995 non-null   int64 \n",
      " 1   article_url     2995 non-null   object\n",
      " 2   title           2994 non-null   object\n",
      " 3   locale          2994 non-null   object\n",
      " 4   type            2994 non-null   object\n",
      " 5   published_time  2995 non-null   object\n",
      " 6   modified_time   2995 non-null   object\n",
      " 7   author          2995 non-null   object\n",
      " 8   tag_list        2995 non-null   object\n",
      " 9   label           2974 non-null   object\n",
      " 10  article_text    2957 non-null   object\n",
      "dtypes: int64(1), object(10)\n",
      "memory usage: 257.5+ KB\n",
      "None\n"
     ]
    },
    {
     "data": {
      "text/html": [
       "<div>\n",
       "<style scoped>\n",
       "    .dataframe tbody tr th:only-of-type {\n",
       "        vertical-align: middle;\n",
       "    }\n",
       "\n",
       "    .dataframe tbody tr th {\n",
       "        vertical-align: top;\n",
       "    }\n",
       "\n",
       "    .dataframe thead th {\n",
       "        text-align: right;\n",
       "    }\n",
       "</style>\n",
       "<table border=\"1\" class=\"dataframe\">\n",
       "  <thead>\n",
       "    <tr style=\"text-align: right;\">\n",
       "      <th></th>\n",
       "      <th>article_id</th>\n",
       "      <th>article_url</th>\n",
       "      <th>title</th>\n",
       "      <th>locale</th>\n",
       "      <th>type</th>\n",
       "      <th>published_time</th>\n",
       "      <th>modified_time</th>\n",
       "      <th>author</th>\n",
       "      <th>tag_list</th>\n",
       "      <th>label</th>\n",
       "      <th>article_text</th>\n",
       "    </tr>\n",
       "  </thead>\n",
       "  <tbody>\n",
       "    <tr>\n",
       "      <th>0</th>\n",
       "      <td>0</td>\n",
       "      <td>https://www.snopes.com/fact-check/did-hillary-...</td>\n",
       "      <td>did hillary clinton endorse ron desantis for p...</td>\n",
       "      <td>en_us</td>\n",
       "      <td>article</td>\n",
       "      <td>2023-04-11 22:20:24</td>\n",
       "      <td>2023-04-11 22:20:24</td>\n",
       "      <td>izz scott lamagdeleine</td>\n",
       "      <td>[deepfakes, ron desantis, hillary clinton, ai-...</td>\n",
       "      <td>false</td>\n",
       "      <td>About this rating On April 11, 2023, a video ...</td>\n",
       "    </tr>\n",
       "    <tr>\n",
       "      <th>1</th>\n",
       "      <td>1</td>\n",
       "      <td>https://www.snopes.com/fact-check/whole-foods-...</td>\n",
       "      <td>no, san francisco whole foods didn't close due...</td>\n",
       "      <td>en_us</td>\n",
       "      <td>article</td>\n",
       "      <td>2023-04-11 18:17:59</td>\n",
       "      <td>2023-04-11 18:17:59</td>\n",
       "      <td>izz scott lamagdeleine</td>\n",
       "      <td>[whole foods, san francisco]</td>\n",
       "      <td>false</td>\n",
       "      <td>About this rating In April 2023, Whole Foods ...</td>\n",
       "    </tr>\n",
       "    <tr>\n",
       "      <th>2</th>\n",
       "      <td>2</td>\n",
       "      <td>https://www.snopes.com/fact-check/tampax-hires...</td>\n",
       "      <td>did tampax hire trans star dylan mulvaney to p...</td>\n",
       "      <td>en_us</td>\n",
       "      <td>article</td>\n",
       "      <td>2023-04-11 18:16:27</td>\n",
       "      <td>2023-04-11 19:34:54</td>\n",
       "      <td>damakant jayshi</td>\n",
       "      <td>[tampons]</td>\n",
       "      <td>false</td>\n",
       "      <td>About this rating On April 9, 2023, a Twitter...</td>\n",
       "    </tr>\n",
       "    <tr>\n",
       "      <th>3</th>\n",
       "      <td>3</td>\n",
       "      <td>https://www.snopes.com/fact-check/joe-biden-20...</td>\n",
       "      <td>yes, joe biden said he's planning to run for p...</td>\n",
       "      <td>en_us</td>\n",
       "      <td>article</td>\n",
       "      <td>2023-04-11 16:15:13</td>\n",
       "      <td>2023-04-11 19:56:04</td>\n",
       "      <td>damakant jayshi</td>\n",
       "      <td>[joe biden, 2024 presidential election]</td>\n",
       "      <td>correct attribution</td>\n",
       "      <td>About this rating He followed up the remark t...</td>\n",
       "    </tr>\n",
       "    <tr>\n",
       "      <th>4</th>\n",
       "      <td>4</td>\n",
       "      <td>https://www.snopes.com/fact-check/photo-women-...</td>\n",
       "      <td>is this a photograph of women 'screaming throu...</td>\n",
       "      <td>en_us</td>\n",
       "      <td>article</td>\n",
       "      <td>2018-06-28 19:28:00</td>\n",
       "      <td>2023-04-11 15:41:57</td>\n",
       "      <td>kim lacapria</td>\n",
       "      <td>[donald trump, uncle sam's misguided children]</td>\n",
       "      <td>false</td>\n",
       "      <td>About this rating On 27 June 2018 the Faceboo...</td>\n",
       "    </tr>\n",
       "  </tbody>\n",
       "</table>\n",
       "</div>"
      ],
      "text/plain": [
       "   article_id                                        article_url  \\\n",
       "0           0  https://www.snopes.com/fact-check/did-hillary-...   \n",
       "1           1  https://www.snopes.com/fact-check/whole-foods-...   \n",
       "2           2  https://www.snopes.com/fact-check/tampax-hires...   \n",
       "3           3  https://www.snopes.com/fact-check/joe-biden-20...   \n",
       "4           4  https://www.snopes.com/fact-check/photo-women-...   \n",
       "\n",
       "                                               title locale     type  \\\n",
       "0  did hillary clinton endorse ron desantis for p...  en_us  article   \n",
       "1  no, san francisco whole foods didn't close due...  en_us  article   \n",
       "2  did tampax hire trans star dylan mulvaney to p...  en_us  article   \n",
       "3  yes, joe biden said he's planning to run for p...  en_us  article   \n",
       "4  is this a photograph of women 'screaming throu...  en_us  article   \n",
       "\n",
       "        published_time        modified_time                  author  \\\n",
       "0  2023-04-11 22:20:24  2023-04-11 22:20:24  izz scott lamagdeleine   \n",
       "1  2023-04-11 18:17:59  2023-04-11 18:17:59  izz scott lamagdeleine   \n",
       "2  2023-04-11 18:16:27  2023-04-11 19:34:54         damakant jayshi   \n",
       "3  2023-04-11 16:15:13  2023-04-11 19:56:04         damakant jayshi   \n",
       "4  2018-06-28 19:28:00  2023-04-11 15:41:57            kim lacapria   \n",
       "\n",
       "                                            tag_list                label  \\\n",
       "0  [deepfakes, ron desantis, hillary clinton, ai-...                false   \n",
       "1                       [whole foods, san francisco]                false   \n",
       "2                                          [tampons]                false   \n",
       "3            [joe biden, 2024 presidential election]  correct attribution   \n",
       "4     [donald trump, uncle sam's misguided children]                false   \n",
       "\n",
       "                                        article_text  \n",
       "0   About this rating On April 11, 2023, a video ...  \n",
       "1   About this rating In April 2023, Whole Foods ...  \n",
       "2   About this rating On April 9, 2023, a Twitter...  \n",
       "3   About this rating He followed up the remark t...  \n",
       "4   About this rating On 27 June 2018 the Faceboo...  "
      ]
     },
     "execution_count": 23,
     "metadata": {},
     "output_type": "execute_result"
    }
   ],
   "source": [
    "print(df.info())\n",
    "df.head()"
   ]
  },
  {
   "cell_type": "code",
   "execution_count": 24,
   "metadata": {
    "ExecuteTime": {
     "end_time": "2023-04-11T23:05:53.476706Z",
     "start_time": "2023-04-11T23:05:53.416217Z"
    }
   },
   "outputs": [
    {
     "data": {
      "text/html": [
       "<div>\n",
       "<style scoped>\n",
       "    .dataframe tbody tr th:only-of-type {\n",
       "        vertical-align: middle;\n",
       "    }\n",
       "\n",
       "    .dataframe tbody tr th {\n",
       "        vertical-align: top;\n",
       "    }\n",
       "\n",
       "    .dataframe thead th {\n",
       "        text-align: right;\n",
       "    }\n",
       "</style>\n",
       "<table border=\"1\" class=\"dataframe\">\n",
       "  <thead>\n",
       "    <tr style=\"text-align: right;\">\n",
       "      <th></th>\n",
       "      <th>tag_list</th>\n",
       "    </tr>\n",
       "  </thead>\n",
       "  <tbody>\n",
       "    <tr>\n",
       "      <th>0</th>\n",
       "      <td>deepfakes</td>\n",
       "    </tr>\n",
       "    <tr>\n",
       "      <th>0</th>\n",
       "      <td>ron desantis</td>\n",
       "    </tr>\n",
       "    <tr>\n",
       "      <th>0</th>\n",
       "      <td>hillary clinton</td>\n",
       "    </tr>\n",
       "    <tr>\n",
       "      <th>0</th>\n",
       "      <td>ai-generated content</td>\n",
       "    </tr>\n",
       "    <tr>\n",
       "      <th>0</th>\n",
       "      <td>2024 presidential election</td>\n",
       "    </tr>\n",
       "    <tr>\n",
       "      <th>...</th>\n",
       "      <td>...</td>\n",
       "    </tr>\n",
       "    <tr>\n",
       "      <th>2992</th>\n",
       "      <td>covid-19</td>\n",
       "    </tr>\n",
       "    <tr>\n",
       "      <th>2992</th>\n",
       "      <td>covid-19 vaccine</td>\n",
       "    </tr>\n",
       "    <tr>\n",
       "      <th>2993</th>\n",
       "      <td>covid-19</td>\n",
       "    </tr>\n",
       "    <tr>\n",
       "      <th>2993</th>\n",
       "      <td>covid-19 vaccine</td>\n",
       "    </tr>\n",
       "    <tr>\n",
       "      <th>2994</th>\n",
       "      <td>NaN</td>\n",
       "    </tr>\n",
       "  </tbody>\n",
       "</table>\n",
       "<p>6150 rows × 1 columns</p>\n",
       "</div>"
      ],
      "text/plain": [
       "                        tag_list\n",
       "0                      deepfakes\n",
       "0                   ron desantis\n",
       "0                hillary clinton\n",
       "0           ai-generated content\n",
       "0     2024 presidential election\n",
       "...                          ...\n",
       "2992                    covid-19\n",
       "2992            covid-19 vaccine\n",
       "2993                    covid-19\n",
       "2993            covid-19 vaccine\n",
       "2994                         NaN\n",
       "\n",
       "[6150 rows x 1 columns]"
      ]
     },
     "execution_count": 24,
     "metadata": {},
     "output_type": "execute_result"
    }
   ],
   "source": [
    "df_tags = df[['tag_list']]\n",
    "df_tags = df_tags.explode(\"tag_list\")\n",
    "df_tags"
   ]
  },
  {
   "cell_type": "code",
   "execution_count": 26,
   "metadata": {
    "ExecuteTime": {
     "end_time": "2023-04-11T23:18:48.009162Z",
     "start_time": "2023-04-11T23:18:47.783560Z"
    }
   },
   "outputs": [],
   "source": [
    "df.to_csv(path_or_buf=\"2995_snopes_articles_11042023.csv\", na_rep=np.nan, index=False)"
   ]
  },
  {
   "cell_type": "code",
   "execution_count": 2,
   "metadata": {},
   "outputs": [],
   "source": [
    "pytrend.build_payload(kw_list=[\"Donald Trump\"], timeframe='today 3-m')"
   ]
  },
  {
   "cell_type": "code",
   "execution_count": 3,
   "metadata": {},
   "outputs": [
    {
     "data": {
      "text/html": [
       "<div>\n",
       "<style scoped>\n",
       "    .dataframe tbody tr th:only-of-type {\n",
       "        vertical-align: middle;\n",
       "    }\n",
       "\n",
       "    .dataframe tbody tr th {\n",
       "        vertical-align: top;\n",
       "    }\n",
       "\n",
       "    .dataframe thead th {\n",
       "        text-align: right;\n",
       "    }\n",
       "</style>\n",
       "<table border=\"1\" class=\"dataframe\">\n",
       "  <thead>\n",
       "    <tr style=\"text-align: right;\">\n",
       "      <th></th>\n",
       "      <th>Donald Trump</th>\n",
       "      <th>isPartial</th>\n",
       "    </tr>\n",
       "    <tr>\n",
       "      <th>date</th>\n",
       "      <th></th>\n",
       "      <th></th>\n",
       "    </tr>\n",
       "  </thead>\n",
       "  <tbody>\n",
       "    <tr>\n",
       "      <th>2023-01-08</th>\n",
       "      <td>5</td>\n",
       "      <td>False</td>\n",
       "    </tr>\n",
       "    <tr>\n",
       "      <th>2023-01-09</th>\n",
       "      <td>6</td>\n",
       "      <td>False</td>\n",
       "    </tr>\n",
       "    <tr>\n",
       "      <th>2023-01-10</th>\n",
       "      <td>5</td>\n",
       "      <td>False</td>\n",
       "    </tr>\n",
       "    <tr>\n",
       "      <th>2023-01-11</th>\n",
       "      <td>4</td>\n",
       "      <td>False</td>\n",
       "    </tr>\n",
       "    <tr>\n",
       "      <th>2023-01-12</th>\n",
       "      <td>5</td>\n",
       "      <td>False</td>\n",
       "    </tr>\n",
       "  </tbody>\n",
       "</table>\n",
       "</div>"
      ],
      "text/plain": [
       "            Donald Trump  isPartial\n",
       "date                               \n",
       "2023-01-08             5      False\n",
       "2023-01-09             6      False\n",
       "2023-01-10             5      False\n",
       "2023-01-11             4      False\n",
       "2023-01-12             5      False"
      ]
     },
     "execution_count": 3,
     "metadata": {},
     "output_type": "execute_result"
    }
   ],
   "source": [
    "google_df_trump = pytrend.interest_over_time()\n",
    "google_df_trump.head()"
   ]
  },
  {
   "cell_type": "code",
   "execution_count": null,
   "metadata": {},
   "outputs": [],
   "source": [
    "def get_google_trends_data(search_term, start_date, end_date):\n",
    "    # build the payload for the pytrends API\n",
    "    pytrend = TrendReq()\n",
    "    pytrend.build_payload(kw_list=[search_term], timeframe=f'{start_date} {end_date}')\n",
    "\n",
    "    # try sending the request with a delay of 1 second\n",
    "    while True:\n",
    "        try:\n",
    "            interest_over_time_df = pytrend.interest_over_time()\n",
    "            break\n",
    "        except requests.exceptions.HTTPError:\n",
    "            print('Too many requests, waiting...')\n",
    "            time.sleep(60)\n",
    "\n",
    "    return interest_over_time_df"
   ]
  }
 ],
 "metadata": {
  "kernelspec": {
   "display_name": "Python 3 (ipykernel)",
   "language": "python",
   "name": "python3"
  },
  "language_info": {
   "codemirror_mode": {
    "name": "ipython",
    "version": 3
   },
   "file_extension": ".py",
   "mimetype": "text/x-python",
   "name": "python",
   "nbconvert_exporter": "python",
   "pygments_lexer": "ipython3",
   "version": "3.9.7"
  }
 },
 "nbformat": 4,
 "nbformat_minor": 1
}
